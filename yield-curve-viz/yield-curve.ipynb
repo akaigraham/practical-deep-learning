{
 "cells": [
  {
   "attachments": {},
   "cell_type": "markdown",
   "metadata": {},
   "source": [
    "# Yield Curve Analysis\n",
    "\n",
    "Sources:\n",
    "1. [PyQuant News](https://twitter.com/pyquantnews/status/1625120952290889728)"
   ]
  },
  {
   "attachments": {},
   "cell_type": "markdown",
   "metadata": {},
   "source": [
    "## Load Dependencies"
   ]
  },
  {
   "cell_type": "code",
   "execution_count": 10,
   "metadata": {},
   "outputs": [],
   "source": [
    "# import libraries\n",
    "import numpy as np \n",
    "import matplotlib.pyplot as plt \n",
    "import matplotlib.animation as animation"
   ]
  },
  {
   "cell_type": "code",
   "execution_count": 11,
   "metadata": {},
   "outputs": [],
   "source": [
    "# import openbb and print version\n",
    "from openbb_terminal.sdk import openbb"
   ]
  },
  {
   "attachments": {},
   "cell_type": "markdown",
   "metadata": {},
   "source": [
    "## Load Data from OpenBB"
   ]
  },
  {
   "cell_type": "code",
   "execution_count": 12,
   "metadata": {},
   "outputs": [],
   "source": [
    "# set maturities\n",
    "maturities = ['3m', '6m', '1y', '2y', '3y',\n",
    "              '5y', '7y', '10y', '20y', '30y']\n",
    "data = openbb.economy.treasury(\n",
    "    instruments=['nominal'],\n",
    "    maturities=maturities,\n",
    "    start_date='1980-01-01'\n",
    ")\n",
    "data.columns = maturities"
   ]
  },
  {
   "cell_type": "code",
   "execution_count": 13,
   "metadata": {},
   "outputs": [
    {
     "data": {
      "text/html": [
       "<div>\n",
       "<style scoped>\n",
       "    .dataframe tbody tr th:only-of-type {\n",
       "        vertical-align: middle;\n",
       "    }\n",
       "\n",
       "    .dataframe tbody tr th {\n",
       "        vertical-align: top;\n",
       "    }\n",
       "\n",
       "    .dataframe thead th {\n",
       "        text-align: right;\n",
       "    }\n",
       "</style>\n",
       "<table border=\"1\" class=\"dataframe\">\n",
       "  <thead>\n",
       "    <tr style=\"text-align: right;\">\n",
       "      <th></th>\n",
       "      <th>3m</th>\n",
       "      <th>6m</th>\n",
       "      <th>1y</th>\n",
       "      <th>2y</th>\n",
       "      <th>3y</th>\n",
       "      <th>5y</th>\n",
       "      <th>7y</th>\n",
       "      <th>10y</th>\n",
       "      <th>20y</th>\n",
       "      <th>30y</th>\n",
       "    </tr>\n",
       "    <tr>\n",
       "      <th>TIME_PERIOD</th>\n",
       "      <th></th>\n",
       "      <th></th>\n",
       "      <th></th>\n",
       "      <th></th>\n",
       "      <th></th>\n",
       "      <th></th>\n",
       "      <th></th>\n",
       "      <th></th>\n",
       "      <th></th>\n",
       "      <th></th>\n",
       "    </tr>\n",
       "  </thead>\n",
       "  <tbody>\n",
       "    <tr>\n",
       "      <th>1980-01-01</th>\n",
       "      <td>NaN</td>\n",
       "      <td>NaN</td>\n",
       "      <td>12.06</td>\n",
       "      <td>11.50</td>\n",
       "      <td>10.88</td>\n",
       "      <td>10.74</td>\n",
       "      <td>10.77</td>\n",
       "      <td>10.80</td>\n",
       "      <td>10.65</td>\n",
       "      <td>10.60</td>\n",
       "    </tr>\n",
       "    <tr>\n",
       "      <th>1980-02-01</th>\n",
       "      <td>NaN</td>\n",
       "      <td>NaN</td>\n",
       "      <td>13.92</td>\n",
       "      <td>13.42</td>\n",
       "      <td>12.84</td>\n",
       "      <td>12.60</td>\n",
       "      <td>12.53</td>\n",
       "      <td>12.41</td>\n",
       "      <td>12.21</td>\n",
       "      <td>12.13</td>\n",
       "    </tr>\n",
       "    <tr>\n",
       "      <th>1980-03-01</th>\n",
       "      <td>NaN</td>\n",
       "      <td>NaN</td>\n",
       "      <td>15.82</td>\n",
       "      <td>14.88</td>\n",
       "      <td>14.05</td>\n",
       "      <td>13.47</td>\n",
       "      <td>13.00</td>\n",
       "      <td>12.75</td>\n",
       "      <td>12.49</td>\n",
       "      <td>12.34</td>\n",
       "    </tr>\n",
       "    <tr>\n",
       "      <th>1980-04-01</th>\n",
       "      <td>NaN</td>\n",
       "      <td>NaN</td>\n",
       "      <td>13.30</td>\n",
       "      <td>12.50</td>\n",
       "      <td>12.02</td>\n",
       "      <td>11.84</td>\n",
       "      <td>11.49</td>\n",
       "      <td>11.47</td>\n",
       "      <td>11.41</td>\n",
       "      <td>11.40</td>\n",
       "    </tr>\n",
       "    <tr>\n",
       "      <th>1980-05-01</th>\n",
       "      <td>NaN</td>\n",
       "      <td>NaN</td>\n",
       "      <td>9.39</td>\n",
       "      <td>9.45</td>\n",
       "      <td>9.44</td>\n",
       "      <td>9.95</td>\n",
       "      <td>10.09</td>\n",
       "      <td>10.18</td>\n",
       "      <td>10.44</td>\n",
       "      <td>10.36</td>\n",
       "    </tr>\n",
       "  </tbody>\n",
       "</table>\n",
       "</div>"
      ],
      "text/plain": [
       "             3m  6m     1y     2y     3y     5y     7y    10y    20y    30y\n",
       "TIME_PERIOD                                                                \n",
       "1980-01-01  NaN NaN  12.06  11.50  10.88  10.74  10.77  10.80  10.65  10.60\n",
       "1980-02-01  NaN NaN  13.92  13.42  12.84  12.60  12.53  12.41  12.21  12.13\n",
       "1980-03-01  NaN NaN  15.82  14.88  14.05  13.47  13.00  12.75  12.49  12.34\n",
       "1980-04-01  NaN NaN  13.30  12.50  12.02  11.84  11.49  11.47  11.41  11.40\n",
       "1980-05-01  NaN NaN   9.39   9.45   9.44   9.95  10.09  10.18  10.44  10.36"
      ]
     },
     "execution_count": 13,
     "metadata": {},
     "output_type": "execute_result"
    }
   ],
   "source": [
    "# preview data\n",
    "data.head()"
   ]
  },
  {
   "attachments": {},
   "cell_type": "markdown",
   "metadata": {},
   "source": [
    "## Identify Inverted Yield Curve"
   ]
  },
  {
   "attachments": {},
   "cell_type": "markdown",
   "metadata": {},
   "source": [
    "An inverted yield curve occurs when yields on longer term maturities drop below those of shorter term debt."
   ]
  },
  {
   "cell_type": "code",
   "execution_count": 14,
   "metadata": {},
   "outputs": [],
   "source": [
    "# identify inverted yield curves\n",
    "data['inverted'] = data['30y'] < data['3m']"
   ]
  },
  {
   "cell_type": "code",
   "execution_count": null,
   "metadata": {},
   "outputs": [],
   "source": []
  }
 ],
 "metadata": {
  "kernelspec": {
   "display_name": "pytorch",
   "language": "python",
   "name": "python3"
  },
  "language_info": {
   "codemirror_mode": {
    "name": "ipython",
    "version": 3
   },
   "file_extension": ".py",
   "mimetype": "text/x-python",
   "name": "python",
   "nbconvert_exporter": "python",
   "pygments_lexer": "ipython3",
   "version": "3.10.9"
  },
  "orig_nbformat": 4
 },
 "nbformat": 4,
 "nbformat_minor": 2
}
