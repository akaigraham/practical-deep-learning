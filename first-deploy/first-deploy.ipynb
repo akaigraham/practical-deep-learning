{
 "cells": [
  {
   "attachments": {},
   "cell_type": "markdown",
   "metadata": {},
   "source": [
    "# Deploying a Model with Gradio"
   ]
  },
  {
   "cell_type": "code",
   "execution_count": 14,
   "metadata": {},
   "outputs": [],
   "source": [
    "# load dependencies\n",
    "import fastbook\n",
    "fastbook.setup_book()"
   ]
  },
  {
   "cell_type": "code",
   "execution_count": 15,
   "metadata": {},
   "outputs": [],
   "source": [
    "from fastbook import *\n",
    "from fastai.vision.widgets import *"
   ]
  },
  {
   "attachments": {},
   "cell_type": "markdown",
   "metadata": {},
   "source": [
    "## Gathering Data"
   ]
  },
  {
   "attachments": {},
   "cell_type": "markdown",
   "metadata": {},
   "source": [
    "We can use the duck duck go api to search images -- this allows us to search without an API key."
   ]
  },
  {
   "cell_type": "code",
   "execution_count": 25,
   "metadata": {},
   "outputs": [
    {
     "data": {
      "text/plain": [
       "<function fastbook.search_images_ddg(term, max_images=200)>"
      ]
     },
     "execution_count": 25,
     "metadata": {},
     "output_type": "execute_result"
    }
   ],
   "source": [
    "# preview function\n",
    "search_images_ddg"
   ]
  },
  {
   "cell_type": "code",
   "execution_count": 29,
   "metadata": {},
   "outputs": [
    {
     "data": {
      "text/plain": [
       "200"
      ]
     },
     "execution_count": 29,
     "metadata": {},
     "output_type": "execute_result"
    }
   ],
   "source": [
    "# search for images using a key\n",
    "ims = search_images_ddg('largemouth bass')\n",
    "len(images)"
   ]
  },
  {
   "cell_type": "code",
   "execution_count": 33,
   "metadata": {},
   "outputs": [
    {
     "data": {
      "text/plain": [
       "Path('images/largemouth.jpg')"
      ]
     },
     "execution_count": 33,
     "metadata": {},
     "output_type": "execute_result"
    }
   ],
   "source": [
    "# save image to folder\n",
    "dest = 'images/largemouth.jpg'\n",
    "download_url(ims[0], dest, show_progress=False)"
   ]
  },
  {
   "cell_type": "code",
   "execution_count": 35,
   "metadata": {},
   "outputs": [
    {
     "data": {
      "image/png": "[encoded data removed]",
      "text/plain": [
       "<PIL.Image.Image image mode=RGB size=128x111>"
      ]
     },
     "execution_count": 35,
     "metadata": {},
     "output_type": "execute_result"
    }
   ],
   "source": [
    "# preview image\n",
    "im = Image.open(dest)\n",
    "im.to_thumb(128,128)"
   ]
  },
  {
   "cell_type": "code",
   "execution_count": 36,
   "metadata": {},
   "outputs": [],
   "source": [
    "# identify labels that we will want to classify fish into\n",
    "bass_types = 'largemouth', 'smallmouth', 'peacock'\n",
    "path = Path('bass-types')"
   ]
  },
  {
   "cell_type": "code",
   "execution_count": 37,
   "metadata": {},
   "outputs": [],
   "source": [
    "# loop through bass types and download images\n",
    "if not path.exists():\n",
    "    path.mkdir()\n",
    "    for bass_type in bass_types:\n",
    "        dest = (path/bass_type)\n",
    "        dest.mkdir(exist_ok=True)\n",
    "        results = search_images_ddg(f'{bass_type} bass')\n",
    "        download_images(dest, urls=results)"
   ]
  },
  {
   "cell_type": "code",
   "execution_count": 40,
   "metadata": {},
   "outputs": [
    {
     "data": {
      "text/plain": [
       "(#541) [Path('bass-types/largemouth/c095e598-5c1a-4ddb-ae43-d9c0a2883b6e.gif'),Path('bass-types/largemouth/2e0710b2-16f6-44d8-8bd8-043bc634611b.jpg'),Path('bass-types/largemouth/d432d70f-2065-4f57-80d7-975a4a6992a0.jpg'),Path('bass-types/largemouth/a24c37ac-fea7-4fc0-bb4b-c5c1266b1bd2.jpg'),Path('bass-types/largemouth/b13106db-d1ba-42fe-b4a2-e860bda68c93.jpg'),Path('bass-types/largemouth/c27ccdbb-7b95-4258-ac6c-528f51659940.JPG'),Path('bass-types/largemouth/c22f5563-eeed-4c73-9bbe-ddd622580568.jpg'),Path('bass-types/largemouth/e93017e4-4a01-48c9-9269-3529842a7dbe.jpg'),Path('bass-types/largemouth/347582ab-5337-4813-bf02-fd9b527acfd4.jpg'),Path('bass-types/largemouth/a931ac70-a8a1-45ec-b338-9027abedd233.jpg')...]"
      ]
     },
     "execution_count": 40,
     "metadata": {},
     "output_type": "execute_result"
    }
   ],
   "source": [
    "# preview folder of image files\n",
    "im_files = get_image_files(path)\n",
    "im_files"
   ]
  },
  {
   "cell_type": "code",
   "execution_count": 41,
   "metadata": {},
   "outputs": [
    {
     "data": {
      "text/plain": [
       "(#13) [Path('bass-types/largemouth/4924b2f7-6628-433a-9604-b73f31cbb8f0.jpg'),Path('bass-types/largemouth/b7a94c86-5937-442b-a19e-7d9b55f9fa9b.jpg'),Path('bass-types/largemouth/c50ed55a-07d3-491d-b6e9-ffcde2e8fe0d.jpg'),Path('bass-types/largemouth/72de0f55-1cf7-4022-822d-2368a465c844.jpg'),Path('bass-types/peacock/bd4255ed-75a9-416f-82dc-10d3806c811d.jpg'),Path('bass-types/peacock/8d80f952-0ae8-415f-b484-bac3d3c585bc.jpg'),Path('bass-types/peacock/40eff741-191e-49ed-a43f-e166f898e0b8.jpg'),Path('bass-types/peacock/fd14cbf8-e278-4742-a300-01d481ebd537.jpg'),Path('bass-types/smallmouth/e3b187a3-5fac-4602-9bd6-e52204628b57.jpg'),Path('bass-types/smallmouth/8f967a80-a80a-4135-ba66-f3ea69081d83.jpg')...]"
      ]
     },
     "execution_count": 41,
     "metadata": {},
     "output_type": "execute_result"
    }
   ],
   "source": [
    "# check for corrupt files\n",
    "corrupt_ims = verify_images(im_files)\n",
    "corrupt_ims"
   ]
  },
  {
   "cell_type": "code",
   "execution_count": 42,
   "metadata": {},
   "outputs": [
    {
     "data": {
      "text/plain": [
       "13"
      ]
     },
     "execution_count": 42,
     "metadata": {},
     "output_type": "execute_result"
    }
   ],
   "source": [
    "# see how many failed\n",
    "len(corrupt_ims)"
   ]
  },
  {
   "cell_type": "code",
   "execution_count": 43,
   "metadata": {},
   "outputs": [],
   "source": [
    "# remove failed images\n",
    "corrupt_ims.map(Path.unlink);"
   ]
  },
  {
   "cell_type": "code",
   "execution_count": null,
   "metadata": {},
   "outputs": [],
   "source": []
  },
  {
   "cell_type": "code",
   "execution_count": null,
   "metadata": {},
   "outputs": [],
   "source": []
  },
  {
   "cell_type": "code",
   "execution_count": null,
   "metadata": {},
   "outputs": [],
   "source": []
  },
  {
   "cell_type": "code",
   "execution_count": null,
   "metadata": {},
   "outputs": [],
   "source": []
  },
  {
   "cell_type": "code",
   "execution_count": null,
   "metadata": {},
   "outputs": [],
   "source": []
  }
 ],
 "metadata": {
  "kernelspec": {
   "display_name": "Python 3 (ipykernel)",
   "language": "python",
   "name": "python3"
  },
  "language_info": {
   "codemirror_mode": {
    "name": "ipython",
    "version": 3
   },
   "file_extension": ".py",
   "mimetype": "text/x-python",
   "name": "python",
   "nbconvert_exporter": "python",
   "pygments_lexer": "ipython3",
   "version": "3.9.16"
  },
  "orig_nbformat": 4,
  "vscode": {
   "interpreter": {
    "hash": "a665b5d41d17b532ea9890333293a1b812fa0b73c9c25c950b3cedf1bebd0438"
   }
  }
 },
 "nbformat": 4,
 "nbformat_minor": 2
}
